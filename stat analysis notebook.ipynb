{
 "cells": [
  {
   "cell_type": "code",
   "execution_count": 2,
   "metadata": {},
   "outputs": [],
   "source": [
    "import pandas as pd\n",
    "import matplotlib.pyplot as plt\n",
    "import seaborn as sns"
   ]
  },
  {
   "cell_type": "code",
   "execution_count": 17,
   "metadata": {},
   "outputs": [
    {
     "data": {
      "text/html": [
       "<div>\n",
       "<style scoped>\n",
       "    .dataframe tbody tr th:only-of-type {\n",
       "        vertical-align: middle;\n",
       "    }\n",
       "\n",
       "    .dataframe tbody tr th {\n",
       "        vertical-align: top;\n",
       "    }\n",
       "\n",
       "    .dataframe thead th {\n",
       "        text-align: right;\n",
       "    }\n",
       "</style>\n",
       "<table border=\"1\" class=\"dataframe\">\n",
       "  <thead>\n",
       "    <tr style=\"text-align: right;\">\n",
       "      <th></th>\n",
       "      <th>Team</th>\n",
       "      <th>W</th>\n",
       "      <th>L</th>\n",
       "      <th>W/L%</th>\n",
       "      <th>PS/G</th>\n",
       "      <th>PA/G</th>\n",
       "      <th>SRS</th>\n",
       "      <th>Season</th>\n",
       "      <th>Conference</th>\n",
       "    </tr>\n",
       "  </thead>\n",
       "  <tbody>\n",
       "    <tr>\n",
       "      <th>0</th>\n",
       "      <td>BOSTON CELTICS</td>\n",
       "      <td>50</td>\n",
       "      <td>32</td>\n",
       "      <td>0.610</td>\n",
       "      <td>99.2</td>\n",
       "      <td>95.6</td>\n",
       "      <td>3.37</td>\n",
       "      <td>2009-2010</td>\n",
       "      <td>East</td>\n",
       "    </tr>\n",
       "    <tr>\n",
       "      <th>1</th>\n",
       "      <td>TORONTO RAPTORS</td>\n",
       "      <td>40</td>\n",
       "      <td>42</td>\n",
       "      <td>0.488</td>\n",
       "      <td>104.1</td>\n",
       "      <td>105.9</td>\n",
       "      <td>-1.83</td>\n",
       "      <td>2009-2010</td>\n",
       "      <td>East</td>\n",
       "    </tr>\n",
       "    <tr>\n",
       "      <th>2</th>\n",
       "      <td>NEW YORK KNICKS</td>\n",
       "      <td>29</td>\n",
       "      <td>53</td>\n",
       "      <td>0.354</td>\n",
       "      <td>102.1</td>\n",
       "      <td>105.9</td>\n",
       "      <td>-4.01</td>\n",
       "      <td>2009-2010</td>\n",
       "      <td>East</td>\n",
       "    </tr>\n",
       "    <tr>\n",
       "      <th>3</th>\n",
       "      <td>PHILADELPHIA 76ERS</td>\n",
       "      <td>27</td>\n",
       "      <td>55</td>\n",
       "      <td>0.329</td>\n",
       "      <td>97.7</td>\n",
       "      <td>101.6</td>\n",
       "      <td>-3.93</td>\n",
       "      <td>2009-2010</td>\n",
       "      <td>East</td>\n",
       "    </tr>\n",
       "    <tr>\n",
       "      <th>4</th>\n",
       "      <td>NEW JERSEY NETS</td>\n",
       "      <td>12</td>\n",
       "      <td>70</td>\n",
       "      <td>0.146</td>\n",
       "      <td>92.4</td>\n",
       "      <td>101.5</td>\n",
       "      <td>-8.93</td>\n",
       "      <td>2009-2010</td>\n",
       "      <td>East</td>\n",
       "    </tr>\n",
       "  </tbody>\n",
       "</table>\n",
       "</div>"
      ],
      "text/plain": [
       "                 Team   W   L   W/L%   PS/G   PA/G   SRS     Season Conference\n",
       "0      BOSTON CELTICS  50  32  0.610   99.2   95.6  3.37  2009-2010       East\n",
       "1     TORONTO RAPTORS  40  42  0.488  104.1  105.9 -1.83  2009-2010       East\n",
       "2     NEW YORK KNICKS  29  53  0.354  102.1  105.9 -4.01  2009-2010       East\n",
       "3  PHILADELPHIA 76ERS  27  55  0.329   97.7  101.6 -3.93  2009-2010       East\n",
       "4     NEW JERSEY NETS  12  70  0.146   92.4  101.5 -8.93  2009-2010       East"
      ]
     },
     "execution_count": 17,
     "metadata": {},
     "output_type": "execute_result"
    }
   ],
   "source": [
    "team_stats = pd.read_csv('team_stats.csv')\n",
    "player_stats = pd.read_csv('player_stats.csv')\n",
    "season_standings = pd.read_csv('standing_stats.csv')\n",
    "season_standings.head()"
   ]
  },
  {
   "cell_type": "code",
   "execution_count": 12,
   "metadata": {},
   "outputs": [
    {
     "data": {
      "text/html": [
       "<div>\n",
       "<style scoped>\n",
       "    .dataframe tbody tr th:only-of-type {\n",
       "        vertical-align: middle;\n",
       "    }\n",
       "\n",
       "    .dataframe tbody tr th {\n",
       "        vertical-align: top;\n",
       "    }\n",
       "\n",
       "    .dataframe thead th {\n",
       "        text-align: right;\n",
       "    }\n",
       "</style>\n",
       "<table border=\"1\" class=\"dataframe\">\n",
       "  <thead>\n",
       "    <tr style=\"text-align: right;\">\n",
       "      <th></th>\n",
       "      <th>Team</th>\n",
       "      <th>G</th>\n",
       "      <th>MP</th>\n",
       "      <th>FG</th>\n",
       "      <th>FGA</th>\n",
       "      <th>FG%</th>\n",
       "      <th>3P</th>\n",
       "      <th>3PA</th>\n",
       "      <th>3P%</th>\n",
       "      <th>2P</th>\n",
       "      <th>...</th>\n",
       "      <th>ORB</th>\n",
       "      <th>DRB</th>\n",
       "      <th>TRB</th>\n",
       "      <th>AST</th>\n",
       "      <th>STL</th>\n",
       "      <th>BLK</th>\n",
       "      <th>TOV</th>\n",
       "      <th>PF</th>\n",
       "      <th>PTS</th>\n",
       "      <th>Season</th>\n",
       "    </tr>\n",
       "  </thead>\n",
       "  <tbody>\n",
       "    <tr>\n",
       "      <th>9</th>\n",
       "      <td>CLEVELAND CAVALIERS</td>\n",
       "      <td>82</td>\n",
       "      <td>19780</td>\n",
       "      <td>3101</td>\n",
       "      <td>6391</td>\n",
       "      <td>0.485</td>\n",
       "      <td>602</td>\n",
       "      <td>1582</td>\n",
       "      <td>0.381</td>\n",
       "      <td>2499</td>\n",
       "      <td>...</td>\n",
       "      <td>791</td>\n",
       "      <td>2692</td>\n",
       "      <td>3483</td>\n",
       "      <td>1835</td>\n",
       "      <td>564</td>\n",
       "      <td>425</td>\n",
       "      <td>1137</td>\n",
       "      <td>1591</td>\n",
       "      <td>8373</td>\n",
       "      <td>2009-2010</td>\n",
       "    </tr>\n",
       "    <tr>\n",
       "      <th>11</th>\n",
       "      <td>LOS ANGELES LAKERS</td>\n",
       "      <td>82</td>\n",
       "      <td>19830</td>\n",
       "      <td>3144</td>\n",
       "      <td>6875</td>\n",
       "      <td>0.457</td>\n",
       "      <td>532</td>\n",
       "      <td>1562</td>\n",
       "      <td>0.341</td>\n",
       "      <td>2612</td>\n",
       "      <td>...</td>\n",
       "      <td>973</td>\n",
       "      <td>2662</td>\n",
       "      <td>3635</td>\n",
       "      <td>1730</td>\n",
       "      <td>612</td>\n",
       "      <td>400</td>\n",
       "      <td>1096</td>\n",
       "      <td>1592</td>\n",
       "      <td>8339</td>\n",
       "      <td>2009-2010</td>\n",
       "    </tr>\n",
       "    <tr>\n",
       "      <th>24</th>\n",
       "      <td>MIAMI HEAT</td>\n",
       "      <td>82</td>\n",
       "      <td>19880</td>\n",
       "      <td>2984</td>\n",
       "      <td>6518</td>\n",
       "      <td>0.458</td>\n",
       "      <td>494</td>\n",
       "      <td>1426</td>\n",
       "      <td>0.346</td>\n",
       "      <td>2490</td>\n",
       "      <td>...</td>\n",
       "      <td>875</td>\n",
       "      <td>2553</td>\n",
       "      <td>3428</td>\n",
       "      <td>1548</td>\n",
       "      <td>605</td>\n",
       "      <td>457</td>\n",
       "      <td>1079</td>\n",
       "      <td>1710</td>\n",
       "      <td>7914</td>\n",
       "      <td>2009-2010</td>\n",
       "    </tr>\n",
       "    <tr>\n",
       "      <th>37</th>\n",
       "      <td>MIAMI HEAT</td>\n",
       "      <td>82</td>\n",
       "      <td>19780</td>\n",
       "      <td>3031</td>\n",
       "      <td>6301</td>\n",
       "      <td>0.481</td>\n",
       "      <td>547</td>\n",
       "      <td>1479</td>\n",
       "      <td>0.370</td>\n",
       "      <td>2484</td>\n",
       "      <td>...</td>\n",
       "      <td>790</td>\n",
       "      <td>2666</td>\n",
       "      <td>3456</td>\n",
       "      <td>1639</td>\n",
       "      <td>544</td>\n",
       "      <td>430</td>\n",
       "      <td>1142</td>\n",
       "      <td>1674</td>\n",
       "      <td>8369</td>\n",
       "      <td>2010-2011</td>\n",
       "    </tr>\n",
       "    <tr>\n",
       "      <th>38</th>\n",
       "      <td>LOS ANGELES LAKERS</td>\n",
       "      <td>82</td>\n",
       "      <td>19830</td>\n",
       "      <td>3128</td>\n",
       "      <td>6757</td>\n",
       "      <td>0.463</td>\n",
       "      <td>524</td>\n",
       "      <td>1487</td>\n",
       "      <td>0.352</td>\n",
       "      <td>2604</td>\n",
       "      <td>...</td>\n",
       "      <td>989</td>\n",
       "      <td>2616</td>\n",
       "      <td>3605</td>\n",
       "      <td>1801</td>\n",
       "      <td>602</td>\n",
       "      <td>422</td>\n",
       "      <td>1073</td>\n",
       "      <td>1555</td>\n",
       "      <td>8321</td>\n",
       "      <td>2010-2011</td>\n",
       "    </tr>\n",
       "  </tbody>\n",
       "</table>\n",
       "<p>5 rows × 25 columns</p>\n",
       "</div>"
      ],
      "text/plain": [
       "                   Team   G     MP    FG   FGA    FG%   3P   3PA    3P%    2P  \\\n",
       "9   CLEVELAND CAVALIERS  82  19780  3101  6391  0.485  602  1582  0.381  2499   \n",
       "11   LOS ANGELES LAKERS  82  19830  3144  6875  0.457  532  1562  0.341  2612   \n",
       "24           MIAMI HEAT  82  19880  2984  6518  0.458  494  1426  0.346  2490   \n",
       "37           MIAMI HEAT  82  19780  3031  6301  0.481  547  1479  0.370  2484   \n",
       "38   LOS ANGELES LAKERS  82  19830  3128  6757  0.463  524  1487  0.352  2604   \n",
       "\n",
       "    ...  ORB   DRB   TRB   AST  STL  BLK   TOV    PF   PTS     Season  \n",
       "9   ...  791  2692  3483  1835  564  425  1137  1591  8373  2009-2010  \n",
       "11  ...  973  2662  3635  1730  612  400  1096  1592  8339  2009-2010  \n",
       "24  ...  875  2553  3428  1548  605  457  1079  1710  7914  2009-2010  \n",
       "37  ...  790  2666  3456  1639  544  430  1142  1674  8369  2010-2011  \n",
       "38  ...  989  2616  3605  1801  602  422  1073  1555  8321  2010-2011  \n",
       "\n",
       "[5 rows x 25 columns]"
      ]
     },
     "execution_count": 12,
     "metadata": {},
     "output_type": "execute_result"
    }
   ],
   "source": [
    "teams = team_stats.loc[team_stats['Team'].isin(['CLEVELAND CAVALIERS','MIAMI HEAT','LOS ANGELES LAKERS'])]\n",
    "standings = season_standings.loc[season_standings['Team'].isin(['CLEVELAND CAVALIERS','MIAMI HEAT','LOS ANGELES LAKERS'])]\n",
    "teams.head()"
   ]
  },
  {
   "cell_type": "code",
   "execution_count": 13,
   "metadata": {},
   "outputs": [
    {
     "data": {
      "text/html": [
       "<div>\n",
       "<style scoped>\n",
       "    .dataframe tbody tr th:only-of-type {\n",
       "        vertical-align: middle;\n",
       "    }\n",
       "\n",
       "    .dataframe tbody tr th {\n",
       "        vertical-align: top;\n",
       "    }\n",
       "\n",
       "    .dataframe thead th {\n",
       "        text-align: right;\n",
       "    }\n",
       "</style>\n",
       "<table border=\"1\" class=\"dataframe\">\n",
       "  <thead>\n",
       "    <tr style=\"text-align: right;\">\n",
       "      <th></th>\n",
       "      <th>Team</th>\n",
       "      <th>W</th>\n",
       "      <th>L</th>\n",
       "      <th>W/L%</th>\n",
       "      <th>PS/G</th>\n",
       "      <th>PA/G</th>\n",
       "      <th>SRS</th>\n",
       "      <th>Season</th>\n",
       "      <th>Conference</th>\n",
       "    </tr>\n",
       "  </thead>\n",
       "  <tbody>\n",
       "    <tr>\n",
       "      <th>5</th>\n",
       "      <td>CLEVELAND CAVALIERS</td>\n",
       "      <td>61</td>\n",
       "      <td>21</td>\n",
       "      <td>0.744</td>\n",
       "      <td>102.1</td>\n",
       "      <td>95.6</td>\n",
       "      <td>6.17</td>\n",
       "      <td>2009-2010</td>\n",
       "      <td>East</td>\n",
       "    </tr>\n",
       "    <tr>\n",
       "      <th>12</th>\n",
       "      <td>MIAMI HEAT</td>\n",
       "      <td>47</td>\n",
       "      <td>35</td>\n",
       "      <td>0.573</td>\n",
       "      <td>96.5</td>\n",
       "      <td>94.2</td>\n",
       "      <td>1.99</td>\n",
       "      <td>2009-2010</td>\n",
       "      <td>East</td>\n",
       "    </tr>\n",
       "    <tr>\n",
       "      <th>24</th>\n",
       "      <td>CLEVELAND CAVALIERS</td>\n",
       "      <td>19</td>\n",
       "      <td>63</td>\n",
       "      <td>0.232</td>\n",
       "      <td>95.5</td>\n",
       "      <td>104.5</td>\n",
       "      <td>-8.88</td>\n",
       "      <td>2010-2011</td>\n",
       "      <td>East</td>\n",
       "    </tr>\n",
       "    <tr>\n",
       "      <th>25</th>\n",
       "      <td>MIAMI HEAT</td>\n",
       "      <td>58</td>\n",
       "      <td>24</td>\n",
       "      <td>0.707</td>\n",
       "      <td>102.1</td>\n",
       "      <td>94.6</td>\n",
       "      <td>6.76</td>\n",
       "      <td>2010-2011</td>\n",
       "      <td>East</td>\n",
       "    </tr>\n",
       "    <tr>\n",
       "      <th>39</th>\n",
       "      <td>CLEVELAND CAVALIERS</td>\n",
       "      <td>21</td>\n",
       "      <td>45</td>\n",
       "      <td>0.318</td>\n",
       "      <td>93.0</td>\n",
       "      <td>100.2</td>\n",
       "      <td>-7.34</td>\n",
       "      <td>2011-2012</td>\n",
       "      <td>East</td>\n",
       "    </tr>\n",
       "  </tbody>\n",
       "</table>\n",
       "</div>"
      ],
      "text/plain": [
       "                   Team   W   L   W/L%   PS/G   PA/G   SRS     Season  \\\n",
       "5   CLEVELAND CAVALIERS  61  21  0.744  102.1   95.6  6.17  2009-2010   \n",
       "12           MIAMI HEAT  47  35  0.573   96.5   94.2  1.99  2009-2010   \n",
       "24  CLEVELAND CAVALIERS  19  63  0.232   95.5  104.5 -8.88  2010-2011   \n",
       "25           MIAMI HEAT  58  24  0.707  102.1   94.6  6.76  2010-2011   \n",
       "39  CLEVELAND CAVALIERS  21  45  0.318   93.0  100.2 -7.34  2011-2012   \n",
       "\n",
       "   Conference  \n",
       "5        East  \n",
       "12       East  \n",
       "24       East  \n",
       "25       East  \n",
       "39       East  "
      ]
     },
     "execution_count": 13,
     "metadata": {},
     "output_type": "execute_result"
    }
   ],
   "source": [
    "standings.head()"
   ]
  },
  {
   "cell_type": "code",
   "execution_count": 14,
   "metadata": {},
   "outputs": [
    {
     "data": {
      "text/plain": [
       "<AxesSubplot:>"
      ]
     },
     "execution_count": 14,
     "metadata": {},
     "output_type": "execute_result"
    },
    {
     "data": {
      "image/png": "[encoded data removed]",
      "text/plain": [
       "<Figure size 432x288 with 1 Axes>"
      ]
     },
     "metadata": {
      "needs_background": "light"
     },
     "output_type": "display_data"
    }
   ],
   "source": [
    "teams.PTS.hist()"
   ]
  },
  {
   "cell_type": "code",
   "execution_count": 15,
   "metadata": {},
   "outputs": [
    {
     "data": {
      "text/plain": [
       "<AxesSubplot:>"
      ]
     },
     "execution_count": 15,
     "metadata": {},
     "output_type": "execute_result"
    },
    {
     "data": {
      "image/png": "[encoded data removed]",
      "text/plain": [
       "<Figure size 432x288 with 1 Axes>"
      ]
     },
     "metadata": {
      "needs_background": "light"
     },
     "output_type": "display_data"
    }
   ],
   "source": [
    "teams.boxplot(column=['3P%','2P%'])"
   ]
  },
  {
   "cell_type": "code",
   "execution_count": 16,
   "metadata": {},
   "outputs": [
    {
     "data": {
      "text/plain": [
       "<AxesSubplot:>"
      ]
     },
     "execution_count": 16,
     "metadata": {},
     "output_type": "execute_result"
    },
    {
     "data": {
      "image/png": "[encoded data removed]",
      "text/plain": [
       "<Figure size 432x288 with 1 Axes>"
      ]
     },
     "metadata": {
      "needs_background": "light"
     },
     "output_type": "display_data"
    }
   ],
   "source": [
    "teams.boxplot(column=['FG%'])"
   ]
  },
  {
   "cell_type": "code",
   "execution_count": null,
   "metadata": {},
   "outputs": [],
   "source": []
  }
 ],
 "metadata": {
  "kernelspec": {
   "display_name": "Python 3",
   "language": "python",
   "name": "python3"
  },
  "language_info": {
   "codemirror_mode": {
    "name": "ipython",
    "version": 3
   },
   "file_extension": ".py",
   "mimetype": "text/x-python",
   "name": "python",
   "nbconvert_exporter": "python",
   "pygments_lexer": "ipython3",
   "version": "3.8.5"
  }
 },
 "nbformat": 4,
 "nbformat_minor": 2
}
